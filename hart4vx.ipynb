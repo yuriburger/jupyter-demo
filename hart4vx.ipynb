import numpy as np
from matplotlib import pyplot as plot

# x = 16 * sin3(θ)
# y = 16 * cos(θ) - 5 * cos(2θ) - 2*cos(3θ) - cos(4θ) 

t = np.linspace(0, 2 * np.pi, 100)
x = 16 * ( np.sin(t) ** 3 )
y = 16 * np.cos(t) - 5* np.cos(2*t) - 2 * np.cos(3*t) - np.cos(4*t)
plot.title('VX')
plot.plot(x, y)
plot.show()